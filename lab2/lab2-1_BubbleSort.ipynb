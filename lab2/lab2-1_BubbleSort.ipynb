{
 "cells": [
  {
   "cell_type": "code",
   "execution_count": 1,
   "id": "7105a4b8-3d3a-43bf-90b5-9e20a0010bf0",
   "metadata": {},
   "outputs": [],
   "source": [
    "def bubble_sort(src_arr, reverse=False):\n",
    "    sorted_arr = src_arr.copy()\n",
    "    \"\"\"\n",
    "    do something\n",
    "    \"\"\"\n",
    "    array_len = len(sorted_arr)\n",
    "    \n",
    "    if reverse:\n",
    "        array_len = len(sorted_arr)\n",
    "        for i in range((array_len-1), 0, (-1)):\n",
    "            for j in range(i):\n",
    "                if sorted_arr[j] < sorted_arr[j+1]:\n",
    "                    sorted_arr[j], sorted_arr[j+1] = sorted_arr[j+1], sorted_arr[j]\n",
    "        return sorted_arr\n",
    "    \n",
    "    for i in range((array_len-1), 0, (-1)):\n",
    "        for j in range(i):\n",
    "            if sorted_arr[j] > sorted_arr[j+1]:\n",
    "                sorted_arr[j], sorted_arr[j+1] = sorted_arr[j+1], sorted_arr[j]\n",
    "    return sorted_arr"
   ]
  },
  {
   "cell_type": "code",
   "execution_count": 2,
   "id": "90be8004-a9ae-4b0e-9404-eeed638ce02b",
   "metadata": {},
   "outputs": [],
   "source": [
    "unsorted_arr = [9, 4, 5, 7, 8, 1, 11, 10, 8, 3]"
   ]
  },
  {
   "cell_type": "code",
   "execution_count": 3,
   "id": "64708346-7e3c-4010-b9ab-0282cbab6031",
   "metadata": {},
   "outputs": [
    {
     "data": {
      "text/plain": [
       "[11, 10, 9, 8, 8, 7, 5, 4, 3, 1]"
      ]
     },
     "execution_count": 3,
     "metadata": {},
     "output_type": "execute_result"
    }
   ],
   "source": [
    "bubble_sort(unsorted_arr, True)"
   ]
  },
  {
   "cell_type": "code",
   "execution_count": 4,
   "id": "d7e7fa9c-d811-4748-9595-94341b2ec740",
   "metadata": {},
   "outputs": [
    {
     "data": {
      "text/plain": [
       "[1, 3, 4, 5, 7, 8, 8, 9, 10, 11]"
      ]
     },
     "execution_count": 4,
     "metadata": {},
     "output_type": "execute_result"
    }
   ],
   "source": [
    "bubble_sort(unsorted_arr, False)"
   ]
  },
  {
   "cell_type": "markdown",
   "id": "c60459b9-8b1e-4d9b-9ccb-532f65a22ddc",
   "metadata": {},
   "source": [
    "[Reference: #70 Python Tutorial for Beginners | Bubble Sort in python | List Sort - YouTube](https://www.youtube.com/watch?v=Vca808JTbI8)"
   ]
  }
 ],
 "metadata": {
  "kernelspec": {
   "display_name": "tf",
   "language": "python",
   "name": "tf"
  },
  "language_info": {
   "codemirror_mode": {
    "name": "ipython",
    "version": 3
   },
   "file_extension": ".py",
   "mimetype": "text/x-python",
   "name": "python",
   "nbconvert_exporter": "python",
   "pygments_lexer": "ipython3",
   "version": "3.9.6"
  }
 },
 "nbformat": 4,
 "nbformat_minor": 5
}
