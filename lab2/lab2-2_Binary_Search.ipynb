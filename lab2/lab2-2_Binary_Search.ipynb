{
 "cells": [
  {
   "cell_type": "code",
   "execution_count": 1,
   "id": "02ab855f-b4df-4767-a6ab-01b340ba1694",
   "metadata": {},
   "outputs": [],
   "source": [
    "def binaru_search(src_arr, target_value):\n",
    "    left = 0\n",
    "    right = len(src_arr)-1\n",
    "    while left <= right:\n",
    "        mid = left + (right - left) // 2\n",
    "        if src_arr[mid] == target_value:\n",
    "            return mid\n",
    "        elif src_arr[mid] < target_value:\n",
    "            left = mid + 1\n",
    "        elif src_arr[mid] > target_value:\n",
    "            right = mid - 1\n",
    "    return -1"
   ]
  },
  {
   "cell_type": "code",
   "execution_count": 2,
   "id": "c520825f-caf5-4840-ada1-4e9ab6d50243",
   "metadata": {},
   "outputs": [
    {
     "name": "stdout",
     "output_type": "stream",
     "text": [
      "original array is  [1, 2, 3, 4, 5, 6, 7, 8, 9]\n"
     ]
    }
   ],
   "source": [
    "array_original = [1, 2, 3, 4, 5, 6, 7, 8, 9]\n",
    "print(\"original array is \", array_original)"
   ]
  },
  {
   "cell_type": "code",
   "execution_count": 3,
   "id": "40d29be5-ee9d-436a-bc0a-fa01e419d8f2",
   "metadata": {},
   "outputs": [
    {
     "name": "stdout",
     "output_type": "stream",
     "text": [
      "target is  7\n",
      "index of target value is:  6\n"
     ]
    }
   ],
   "source": [
    "target_num = 7\n",
    "print(\"target is \", target_num)\n",
    "print(\"index of target value is: \", binaru_search(array_original, target_num))"
   ]
  },
  {
   "cell_type": "code",
   "execution_count": 4,
   "id": "da0f3191-c462-4791-b6c0-1f0a57395c02",
   "metadata": {},
   "outputs": [
    {
     "name": "stdout",
     "output_type": "stream",
     "text": [
      "index of target value is:  -1\n"
     ]
    }
   ],
   "source": [
    "target_num = 100\n",
    "print(\"index of target value is: \", binaru_search(array_original, target_num))"
   ]
  },
  {
   "cell_type": "markdown",
   "id": "ad6097ac-ec52-42d5-aea6-645f076cd66a",
   "metadata": {},
   "source": [
    "[reference: 二分搜尋演算法 - 維基百科，自由的百科全書](https://zh.wikipedia.org/wiki/%E4%BA%8C%E5%88%86%E6%90%9C%E5%B0%8B%E6%BC%94%E7%AE%97%E6%B3%95#Python3_%E7%89%88%E6%9C%AC_while_%E5%BE%AA%E7%8E%AF)"
   ]
  }
 ],
 "metadata": {
  "kernelspec": {
   "display_name": "tf",
   "language": "python",
   "name": "tf"
  },
  "language_info": {
   "codemirror_mode": {
    "name": "ipython",
    "version": 3
   },
   "file_extension": ".py",
   "mimetype": "text/x-python",
   "name": "python",
   "nbconvert_exporter": "python",
   "pygments_lexer": "ipython3",
   "version": "3.9.6"
  }
 },
 "nbformat": 4,
 "nbformat_minor": 5
}
