{
 "cells": [
  {
   "cell_type": "code",
   "execution_count": 1,
   "id": "c4ef9a01-c2ed-4ba2-a271-7b904b347380",
   "metadata": {},
   "outputs": [],
   "source": [
    "import math"
   ]
  },
  {
   "cell_type": "code",
   "execution_count": 2,
   "id": "ca3e5927-885e-46df-bbf7-3a2e40cb3cdf",
   "metadata": {},
   "outputs": [],
   "source": [
    "def is_prime(n):\n",
    "    if n <= 2:\n",
    "        return True\n",
    "    factor = math.sqrt(n)\n",
    "    for i in range(2, int(factor)+1):\n",
    "        if n % i == 0:\n",
    "            return False\n",
    "    return True\n",
    "def find_primes(range_s, range_e):\n",
    "    prime_list = []\n",
    "    \"\"\"\n",
    "    找出範圍內的所有質數\n",
    "    \"\"\"\n",
    "    for i in range (range_s, range_e+1):\n",
    "        if is_prime(i):\n",
    "            prime_list.append(i)\n",
    "    return prime_list"
   ]
  },
  {
   "cell_type": "code",
   "execution_count": 3,
   "id": "727cc8fa-abb0-4a4a-a3fa-2e235d45c639",
   "metadata": {},
   "outputs": [
    {
     "data": {
      "text/plain": [
       "[23, 29, 31, 37, 41, 43, 47]"
      ]
     },
     "execution_count": 3,
     "metadata": {},
     "output_type": "execute_result"
    }
   ],
   "source": [
    "find_primes(23, 47)"
   ]
  },
  {
   "cell_type": "code",
   "execution_count": 4,
   "id": "40477c5c-09b5-4a42-a3f3-56f0c2d41a3e",
   "metadata": {},
   "outputs": [
    {
     "data": {
      "text/plain": [
       "7"
      ]
     },
     "execution_count": 4,
     "metadata": {},
     "output_type": "execute_result"
    }
   ],
   "source": [
    "len(find_primes(23, 47))"
   ]
  },
  {
   "cell_type": "code",
   "execution_count": null,
   "id": "0ae947c5-7651-4491-a6eb-44ed396792be",
   "metadata": {},
   "outputs": [],
   "source": []
  }
 ],
 "metadata": {
  "kernelspec": {
   "display_name": "tf",
   "language": "python",
   "name": "tf"
  },
  "language_info": {
   "codemirror_mode": {
    "name": "ipython",
    "version": 3
   },
   "file_extension": ".py",
   "mimetype": "text/x-python",
   "name": "python",
   "nbconvert_exporter": "python",
   "pygments_lexer": "ipython3",
   "version": "3.9.6"
  }
 },
 "nbformat": 4,
 "nbformat_minor": 5
}
