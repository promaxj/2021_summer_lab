{
 "cells": [
  {
   "cell_type": "code",
   "execution_count": 9,
   "id": "ea8002ee-902d-44a1-b1a5-9fdadb19984d",
   "metadata": {},
   "outputs": [],
   "source": [
    "import math"
   ]
  },
  {
   "cell_type": "code",
   "execution_count": 10,
   "id": "3bbbdbb0-3898-4c53-ba2e-24e59b6e6955",
   "metadata": {},
   "outputs": [],
   "source": [
    "def is_prime(n):\n",
    "    if n <= 2:\n",
    "        return True\n",
    "    factor = math.sqrt(n)\n",
    "    for i in range(2, int(factor)+1):\n",
    "        if n % i == 0:\n",
    "            return False\n",
    "    return True\n",
    "def find_primes(range_s, range_e):\n",
    "    prime_list = []\n",
    "    \"\"\"\n",
    "    找出範圍內的所有質數\n",
    "    \"\"\"\n",
    "    for i in range (1, range_e+1):\n",
    "        if is_prime(i) and i >= range_s:\n",
    "            prime_list.append(i)\n",
    "    return prime_list"
   ]
  },
  {
   "cell_type": "code",
   "execution_count": 11,
   "id": "9dfe2585-51a4-4cb6-a225-24e7ee5c0853",
   "metadata": {},
   "outputs": [
    {
     "data": {
      "text/plain": [
       "[23, 29, 31, 37, 41, 43, 47]"
      ]
     },
     "execution_count": 11,
     "metadata": {},
     "output_type": "execute_result"
    }
   ],
   "source": [
    "find_primes(20, 47)"
   ]
  },
  {
   "cell_type": "code",
   "execution_count": 12,
   "id": "6c1ab055-eaed-49f5-8fe2-91b23d5140a2",
   "metadata": {},
   "outputs": [
    {
     "data": {
      "text/plain": [
       "7"
      ]
     },
     "execution_count": 12,
     "metadata": {},
     "output_type": "execute_result"
    }
   ],
   "source": [
    "len(find_primes(20, 50))"
   ]
  }
 ],
 "metadata": {
  "kernelspec": {
   "display_name": "tf",
   "language": "python",
   "name": "tf"
  },
  "language_info": {
   "codemirror_mode": {
    "name": "ipython",
    "version": 3
   },
   "file_extension": ".py",
   "mimetype": "text/x-python",
   "name": "python",
   "nbconvert_exporter": "python",
   "pygments_lexer": "ipython3",
   "version": "3.9.6"
  }
 },
 "nbformat": 4,
 "nbformat_minor": 5
}
