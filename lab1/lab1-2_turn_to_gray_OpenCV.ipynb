{
 "cells": [
  {
   "cell_type": "code",
   "execution_count": 1,
   "id": "b1da7f8b-ea3a-4ffb-9062-c059bfd654cf",
   "metadata": {},
   "outputs": [],
   "source": [
    "import numpy as np\n",
    "import cv2"
   ]
  },
  {
   "cell_type": "code",
   "execution_count": 2,
   "id": "4b91d0fe-ca94-4fca-8352-78dd07bba0fa",
   "metadata": {},
   "outputs": [],
   "source": [
    "image_path = \"pic.png\"\n",
    "image = cv2.imread(image_path)"
   ]
  },
  {
   "cell_type": "code",
   "execution_count": 3,
   "id": "077eb454-9387-436b-811f-2cb390ff268f",
   "metadata": {},
   "outputs": [
    {
     "data": {
      "text/plain": [
       "numpy.ndarray"
      ]
     },
     "execution_count": 3,
     "metadata": {},
     "output_type": "execute_result"
    }
   ],
   "source": [
    "type(image) #查詢圖片 type"
   ]
  },
  {
   "cell_type": "code",
   "execution_count": 4,
   "id": "1a63a789-ebab-4742-a6bd-a910abff3352",
   "metadata": {},
   "outputs": [],
   "source": [
    "img_gray1 = cv2.imread(image_path, cv2.IMREAD_GRAYSCALE) #將圖片轉為灰階"
   ]
  },
  {
   "cell_type": "code",
   "execution_count": 5,
   "id": "38a0fb98-11cb-41b9-906f-1abee6ae09be",
   "metadata": {},
   "outputs": [
    {
     "data": {
      "text/plain": [
       "True"
      ]
     },
     "execution_count": 5,
     "metadata": {},
     "output_type": "execute_result"
    }
   ],
   "source": [
    "cv2.imwrite('pic_gray1.png', img_gray1) #將灰階圖片輸出為 pic_gray.png"
   ]
  },
  {
   "cell_type": "code",
   "execution_count": 6,
   "id": "6d37ae92-7b6b-4815-bb61-b920616488a1",
   "metadata": {},
   "outputs": [],
   "source": [
    "def BGR2Gray(img):\n",
    "    gray_image = np.zeros((img.shape[0], img.shape[1])) #Return a new array of given shape and type, filled with zeros.\n",
    "    for x in range(img.shape[0]):\n",
    "        for y in range(img.shape[1]):\n",
    "            \"\"\"\n",
    "            completely by self\n",
    "            \"\"\"\n",
    "            gray_image[x,y] = (img[x, y, 0]*0.114+img[x, y, 1]*0.587+img[x, y, 2]*0.299) # 調變成灰階\n",
    "    return gray_image.astype('uint8')"
   ]
  },
  {
   "cell_type": "code",
   "execution_count": 7,
   "id": "44c06860-4406-4979-ad3e-22084290078a",
   "metadata": {},
   "outputs": [
    {
     "data": {
      "text/plain": [
       "True"
      ]
     },
     "execution_count": 7,
     "metadata": {},
     "output_type": "execute_result"
    }
   ],
   "source": [
    "img_gray2 = BGR2Gray(image) #將圖片轉為灰階\n",
    "cv2.imwrite('pic_gray2.png', img_gray2) # 存檔"
   ]
  },
  {
   "cell_type": "code",
   "execution_count": 8,
   "id": "62fc0065-ebdf-4ae2-902f-8119d517dc19",
   "metadata": {},
   "outputs": [
    {
     "data": {
      "text/plain": [
       "True"
      ]
     },
     "execution_count": 8,
     "metadata": {},
     "output_type": "execute_result"
    }
   ],
   "source": [
    "pic_resized = cv2.resize(image, (224, 224)) # 調整影像大小\n",
    "cv2.imwrite('pic_resized.png', pic_resized) # 存檔"
   ]
  }
 ],
 "metadata": {
  "kernelspec": {
   "display_name": "tf",
   "language": "python",
   "name": "tf"
  },
  "language_info": {
   "codemirror_mode": {
    "name": "ipython",
    "version": 3
   },
   "file_extension": ".py",
   "mimetype": "text/x-python",
   "name": "python",
   "nbconvert_exporter": "python",
   "pygments_lexer": "ipython3",
   "version": "3.9.6"
  }
 },
 "nbformat": 4,
 "nbformat_minor": 5
}
